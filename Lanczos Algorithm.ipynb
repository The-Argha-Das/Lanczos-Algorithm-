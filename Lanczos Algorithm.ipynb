{
 "cells": [
  {
   "cell_type": "code",
   "execution_count": null,
   "id": "7af46e7b-f31c-401a-9bd6-709e28d017aa",
   "metadata": {},
   "outputs": [
    {
     "name": "stdout",
     "output_type": "stream",
     "text": [
      "\n",
      "--- Evaluating Density Level: 1.00% ---\n",
      "Density: 1.00%, Average Lanczos Basis Size: 105.3\n",
      "\n",
      "--- Evaluating Density Level: 5.00% ---\n"
     ]
    }
   ],
   "source": [
    "import numpy as np\n",
    "from scipy.sparse import random as sparse_random\n",
    "from scipy.sparse.linalg import eigsh\n",
    "import matplotlib.pyplot as plt\n",
    "\n",
    "def generate_sparse_matrix(size, density):\n",
    "    rvs = np.random.randn  \n",
    "    upper = sparse_random(size, size, density=density/2, data_rvs=rvs, format='coo')\n",
    "    matrix_s = upper + upper.T\n",
    "    return matrix_s.tocsr()  \n",
    "\n",
    "def lanczos_algorithm(matrix_s, initial_vector, expected_eigenvalue, tol=1e-6, max_iter=10000):\n",
    "    m = matrix_s.shape[0]\n",
    "    krylov_vectors = np.zeros((m, max_iter + 1))\n",
    "    tridiag_matrix = np.zeros((max_iter + 1, max_iter))\n",
    "    w = initial_vector / np.linalg.norm(initial_vector)\n",
    "    krylov_vectors[:, 0] = w\n",
    "    \n",
    "    for k in range(max_iter):\n",
    "        v = matrix_s.dot(krylov_vectors[:, k])  \n",
    "        tridiag_matrix[k, k] = np.dot(krylov_vectors[:, k].conj(), v)\n",
    "        v = v - tridiag_matrix[k, k] * krylov_vectors[:, k]\n",
    "        if k > 0:\n",
    "            v = v - tridiag_matrix[k, k-1] * krylov_vectors[:, k-1]\n",
    "        tridiag_matrix[k + 1, k] = np.linalg.norm(v)\n",
    "        if tridiag_matrix[k + 1, k] > tol:\n",
    "            krylov_vectors[:, k + 1] = v / tridiag_matrix[k + 1, k]\n",
    "        else:\n",
    "            break\n",
    "        eigenvalues = np.linalg.eigvalsh(tridiag_matrix[:k + 1, :k + 1])\n",
    "        estimated_eigenvalue = eigenvalues[0]\n",
    "        if abs(estimated_eigenvalue - expected_eigenvalue) < tol:\n",
    "            return k + 1  \n",
    "    \n",
    "    return max_iter\n",
    "\n",
    "def evaluate_average_iterations(size, density_levels, initial_vector, num_trials=2, tol=1e-6, max_iter=10000):\n",
    "    avg_iterations_per_density = []\n",
    "    \n",
    "    for density in density_levels:\n",
    "        print(f\"\\n--- Evaluating Density Level: {density:.2%} ---\")\n",
    "        total_iterations = 0\n",
    "        \n",
    "        for trial in range(num_trials):\n",
    "            matrix_s = generate_sparse_matrix(size, density)\n",
    "            exact_eigenvalue, _ = eigsh(matrix_s, k=1, which='SA', tol=tol)\n",
    "            exact_eigenvalue = exact_eigenvalue[0]\n",
    "            num_iterations = lanczos_algorithm(matrix_s, initial_vector, exact_eigenvalue, tol, max_iter)\n",
    "            total_iterations += num_iterations\n",
    "        \n",
    "        avg_iterations = total_iterations / num_trials\n",
    "        avg_iterations_per_density.append(avg_iterations)\n",
    "        print(f\"Density: {density:.2%}, Average Lanczos Basis Size: {avg_iterations}\")\n",
    "    \n",
    "    return avg_iterations_per_density\n",
    "\n",
    "# Parameters\n",
    "size = 10000\n",
    "density_levels = [0.01, 0.05, 0.1, 0.15, 0.2, 0.25, 0.3, 0.35, 0.4, 0.45, 0.5, 0.55, 0.6, 0.65, 0.7, 0.75, 0.8, 0.85, 0.9, 0.95, 1.0]\n",
    "initial_vector = np.random.rand(size)  # random initial vector\n",
    "\n",
    "# Evaluate the basis size for different sparsity levels\n",
    "average_basis_sizes = evaluate_average_iterations(size, density_levels, initial_vector, num_trials=2)\n",
    "\n",
    "# Plot the results\n",
    "plt.figure(figsize=(10, 6))\n",
    "plt.plot(density_levels, average_basis_sizes, marker='o', linestyle='-', color='b')\n",
    "plt.xlabel('Density Level (%)')\n",
    "plt.ylabel('Average Lanczos Basis Size')\n",
    "plt.title('Density vs Average Lanczos Basis Size')\n",
    "plt.grid(True)\n",
    "plt.show()\n"
   ]
  },
  {
   "cell_type": "code",
   "execution_count": null,
   "id": "242452bf-add4-4369-905a-1929f3ae19b2",
   "metadata": {},
   "outputs": [],
   "source": []
  }
 ],
 "metadata": {
  "kernelspec": {
   "display_name": "Python 3 (ipykernel)",
   "language": "python",
   "name": "python3"
  },
  "language_info": {
   "codemirror_mode": {
    "name": "ipython",
    "version": 3
   },
   "file_extension": ".py",
   "mimetype": "text/x-python",
   "name": "python",
   "nbconvert_exporter": "python",
   "pygments_lexer": "ipython3",
   "version": "3.12.4"
  }
 },
 "nbformat": 4,
 "nbformat_minor": 5
}
