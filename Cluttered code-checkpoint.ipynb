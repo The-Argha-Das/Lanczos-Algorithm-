{
 "cells": [
  {
   "cell_type": "code",
   "execution_count": null,
   "id": "68a8ef47-6f60-4b96-b657-a82685d1d242",
   "metadata": {},
   "outputs": [],
   "source": [
    "plt.figure(figsize=(12, 8))\n",
    "plt.plot([d*100 for d in density_levels], average_basis_sizes, marker='o', linestyle='-', color='b')\n",
    "plt.xlabel('Density Level (%)')\n",
    "plt.ylabel('Average Lanczos Basis Size')\n",
    "plt.title('Density vs Average Lanczos Basis Size')\n",
    "plt.grid(True)\n",
    "\n",
    "# Set logarithmic scale\n",
    "plt.xscale('log')\n",
    "\n",
    "# Custom ticks\n",
    "ticks = [d*100 for d in density_levels]\n",
    "plt.xticks(ticks, labels=[f\"{d*100:.5f}%\" for d in density_levels], rotation=90, ha=\"right\")\n",
    "\n",
    "# Ensure layout fits\n",
    "plt.tight_layout()\n",
    "plt.show()"
   ]
  }
 ],
 "metadata": {
  "kernelspec": {
   "display_name": "Python 3 (ipykernel)",
   "language": "python",
   "name": "python3"
  },
  "language_info": {
   "codemirror_mode": {
    "name": "ipython",
    "version": 3
   },
   "file_extension": ".py",
   "mimetype": "text/x-python",
   "name": "python",
   "nbconvert_exporter": "python",
   "pygments_lexer": "ipython3",
   "version": "3.12.4"
  }
 },
 "nbformat": 4,
 "nbformat_minor": 5
}
